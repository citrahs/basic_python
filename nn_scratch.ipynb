{
 "cells": [
  {
   "cell_type": "code",
   "execution_count": 1,
   "metadata": {},
   "outputs": [
    {
     "name": "stdout",
     "output_type": "stream",
     "text": [
      "D:\\backup\\S2\\SEM2\\ci\\tugas praktikum\n"
     ]
    }
   ],
   "source": [
    "cd D:\\backup\\S2\\SEM2\\ci\\tugas praktikum"
   ]
  },
  {
   "cell_type": "code",
   "execution_count": 2,
   "metadata": {
    "collapsed": true
   },
   "outputs": [],
   "source": [
    "import pandas as pd\n",
    "import numpy as np"
   ]
  },
  {
   "cell_type": "code",
   "execution_count": 92,
   "metadata": {},
   "outputs": [
    {
     "name": "stdout",
     "output_type": "stream",
     "text": [
      "output after training\n",
      "[[ 0.00912524]\n",
      " [ 0.00597684]\n",
      " [ 0.00597684]\n",
      " [ 0.99992116]\n",
      " [ 0.99444144]\n",
      " [ 0.9915115 ]]\n"
     ]
    }
   ],
   "source": [
    "#fungsi sigmoid\n",
    "def nonlin(x,deriv=False):\n",
    "    if(deriv==True):\n",
    "        return x*(1-x)\n",
    "    return 1/(1+np.exp(-x))\n",
    " \n",
    "#input dataset\n",
    "feature_set = np.array([[0,1,0],\n",
    "                        [1,1,0],\n",
    "                        [1,1,0], \n",
    "                        [1,0,1], \n",
    "                        [0,1,1],\n",
    "                        [1,1,1]])\n",
    "                \n",
    "labels = np.array([[0],[0],[0],[1],[1],[1]])\n",
    "\n",
    "#ambil bilangan random untuk proses kalkulasi\n",
    "np.random.seed(1)\n",
    "\n",
    "#inisialisasi bobot random dengan mean 0\n",
    "syn0 = 2*np.random.random((3,1)) - 1\n",
    "epoch = 10000\n",
    "for iter in range(epoch):\n",
    "    #forward propagasi\n",
    "    l0 = feature_set\n",
    "    l1 = nonlin(np.dot(l0,syn0))\n",
    "    \n",
    "    # galat\n",
    "    l1_error = labels-l1\n",
    "    \n",
    "    #perkalian dengan galat/eror\n",
    "    l1_delta = l1_error*nonlin(l1,True)\n",
    "\n",
    "    #update bobot\n",
    "    syn0 += np.dot(l0.T,l1_delta)\n",
    "\n",
    "#lihat hasil dari data set\n",
    "print(\"output after training\")\n",
    "print(l1)"
   ]
  },
  {
   "cell_type": "code",
   "execution_count": 94,
   "metadata": {},
   "outputs": [
    {
     "data": {
      "text/plain": [
       "array([[ 0.99994853]])"
      ]
     },
     "execution_count": 94,
     "metadata": {},
     "output_type": "execute_result"
    }
   ],
   "source": [
    "#uji dataset baru\n",
    "single_point = np.array([[0,0,1]])\n",
    "result = nonlin(np.dot(single_point,syn0))\n",
    "result"
   ]
  },
  {
   "cell_type": "code",
   "execution_count": 6,
   "metadata": {
    "collapsed": true
   },
   "outputs": [],
   "source": [
    "#baca data iris\n",
    "data = pd.read_csv('iris.csv')"
   ]
  },
  {
   "cell_type": "code",
   "execution_count": 7,
   "metadata": {
    "collapsed": true
   },
   "outputs": [],
   "source": [
    "#pilih data dengan kelas selain setosa\n",
    "data = data[data['species']!='setosa']"
   ]
  },
  {
   "cell_type": "code",
   "execution_count": 11,
   "metadata": {},
   "outputs": [],
   "source": [
    "#mengubah kategori kelas menjadi angka\n",
    "#versicolor menjadi 0\n",
    "#virginica menjadi 1\n",
    "data['species'] = data['species'].replace(['versicolor', 'virginica'], [0,1])"
   ]
  },
  {
   "cell_type": "code",
   "execution_count": 14,
   "metadata": {},
   "outputs": [],
   "source": [
    "#normalisasi dengan menggunakan skala min max\n",
    "data_norm  = data[['sepal_length', 'sepal_width', 'petal_length', 'petal_width']].apply(lambda x: (x - x.min())/(x.max() - x.min()))"
   ]
  },
  {
   "cell_type": "code",
   "execution_count": 89,
   "metadata": {
    "scrolled": true
   },
   "outputs": [],
   "source": [
    "#fungsi sigmoid\n",
    "def nonlin(x,deriv=False):\n",
    "    if(deriv==True):\n",
    "        return x*(1-x)\n",
    "    return 1/(1+np.exp(-x))\n",
    " \n",
    "#input dataset\n",
    "feature_set = data_norm.values\n",
    "labels = data[['species']].values\n",
    "\n",
    "#ambil bilangan random untuk proses kalkulasi\n",
    "np.random.seed(1)\n",
    "\n",
    "#inisialisasi bobot random dengan mean 0\n",
    "syn0 = 2*np.random.random((4,1)) - 1\n",
    "epoch = 100000\n",
    "for iter in range(epoch):\n",
    "    #forward propagasi\n",
    "    l0 = feature_set\n",
    "    l1 = nonlin(np.dot(l0,syn0))\n",
    "    \n",
    "    # galat\n",
    "    l1_error = labels-l1\n",
    "    \n",
    "    #perkalian dengan galat/eror\n",
    "    l1_delta = l1_error*nonlin(l1,True)\n",
    "\n",
    "    #update bobot\n",
    "    syn0 += np.dot(l0.T,l1_delta)"
   ]
  },
  {
   "cell_type": "code",
   "execution_count": 62,
   "metadata": {},
   "outputs": [],
   "source": [
    "#membuat list hasil prediksi\n",
    "pred_list = []\n",
    "for i in range(len(l1)):\n",
    "    if l1[i]>0.5:\n",
    "        pred = 1\n",
    "    else:\n",
    "        pred = 0\n",
    "    pred_list.append([pred])"
   ]
  },
  {
   "cell_type": "code",
   "execution_count": 88,
   "metadata": {
    "scrolled": true
   },
   "outputs": [
    {
     "name": "stdout",
     "output_type": "stream",
     "text": [
      "Confussion Matrix\n",
      "\n",
      "Prediction   0   1\n",
      "Actual            \n",
      "0           43   7\n",
      "1            1  49\n",
      "\n",
      "Akurasi: 92%\n"
     ]
    }
   ],
   "source": [
    "print(\"Confussion Matrix\\n\")\n",
    "print(pd.crosstab(pd.Series(labels.flatten(),name='Actual'),pd.Series(np.array(pred_list).flatten(),name='Prediction')))\n",
    "print(\"\\nAkurasi: {0}%\".format(int(((labels == np.array(pred_list)).sum() / float(len(labels)))*100)))"
   ]
  },
  {
   "cell_type": "code",
   "execution_count": null,
   "metadata": {
    "collapsed": true
   },
   "outputs": [],
   "source": []
  }
 ],
 "metadata": {
  "kernelspec": {
   "display_name": "Python 2",
   "language": "python",
   "name": "python2"
  },
  "language_info": {
   "codemirror_mode": {
    "name": "ipython",
    "version": 2
   },
   "file_extension": ".py",
   "mimetype": "text/x-python",
   "name": "python",
   "nbconvert_exporter": "python",
   "pygments_lexer": "ipython2",
   "version": "2.7.14"
  }
 },
 "nbformat": 4,
 "nbformat_minor": 2
}
