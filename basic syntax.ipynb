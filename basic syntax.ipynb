{
 "cells": [
  {
   "cell_type": "markdown",
   "metadata": {},
   "source": [
    "## Basic Python dan Syntax"
   ]
  },
  {
   "cell_type": "markdown",
   "metadata": {},
   "source": [
    "* Comments"
   ]
  },
  {
   "cell_type": "code",
   "execution_count": 2,
   "metadata": {
    "collapsed": true
   },
   "outputs": [],
   "source": [
    "# ini adalah komentar"
   ]
  },
  {
   "cell_type": "markdown",
   "metadata": {},
   "source": [
    "* Identifiers Python"
   ]
  },
  {
   "cell_type": "code",
   "execution_count": 3,
   "metadata": {
    "collapsed": true
   },
   "outputs": [],
   "source": [
    "var_1 = 1\n",
    "var_2 = 2"
   ]
  },
  {
   "cell_type": "markdown",
   "metadata": {},
   "source": [
    "* Reserved(keyword) words"
   ]
  },
  {
   "cell_type": "code",
   "execution_count": 8,
   "metadata": {},
   "outputs": [],
   "source": [
    "#as = 1\n",
    "#break"
   ]
  },
  {
   "cell_type": "code",
   "execution_count": 6,
   "metadata": {
    "scrolled": true
   },
   "outputs": [
    {
     "data": {
      "text/plain": [
       "['and',\n",
       " 'as',\n",
       " 'assert',\n",
       " 'break',\n",
       " 'class',\n",
       " 'continue',\n",
       " 'def',\n",
       " 'del',\n",
       " 'elif',\n",
       " 'else',\n",
       " 'except',\n",
       " 'exec',\n",
       " 'finally',\n",
       " 'for',\n",
       " 'from',\n",
       " 'global',\n",
       " 'if',\n",
       " 'import',\n",
       " 'in',\n",
       " 'is',\n",
       " 'lambda',\n",
       " 'not',\n",
       " 'or',\n",
       " 'pass',\n",
       " 'print',\n",
       " 'raise',\n",
       " 'return',\n",
       " 'try',\n",
       " 'while',\n",
       " 'with',\n",
       " 'yield']"
      ]
     },
     "execution_count": 6,
     "metadata": {},
     "output_type": "execute_result"
    }
   ],
   "source": [
    "import keyword\n",
    "keyword.kwlist"
   ]
  },
  {
   "cell_type": "markdown",
   "metadata": {},
   "source": [
    "* Lines and identation"
   ]
  },
  {
   "cell_type": "code",
   "execution_count": 9,
   "metadata": {},
   "outputs": [
    {
     "name": "stdout",
     "output_type": "stream",
     "text": [
      "Satu\n"
     ]
    }
   ],
   "source": [
    "a =1 \n",
    "if a==1:\n",
    "    print(\"Satu\")\n",
    "else:\n",
    "    print(a)"
   ]
  },
  {
   "cell_type": "code",
   "execution_count": 10,
   "metadata": {
    "collapsed": true
   },
   "outputs": [],
   "source": [
    "#multiline statement\n",
    "total = 1+\\\n",
    "        2+\\\n",
    "        3\n",
    "days = ['Monday', 'Tuesday', 'Wednesday', \n",
    "        'Thursday', 'Friday']"
   ]
  },
  {
   "cell_type": "markdown",
   "metadata": {},
   "source": [
    "* Quotation di python untuk mendefinisikan line statements"
   ]
  },
  {
   "cell_type": "code",
   "execution_count": 11,
   "metadata": {
    "collapsed": true
   },
   "outputs": [],
   "source": [
    "Word = 'word'\n",
    "sentence = \"This in a sentence.\"\n",
    "paragraph = \"\"\"This is a paragraph.\n",
    "It is made up of multiple lines and sentences.\"\"\""
   ]
  },
  {
   "cell_type": "markdown",
   "metadata": {},
   "source": [
    "* Waiting input for the user"
   ]
  },
  {
   "cell_type": "code",
   "execution_count": 12,
   "metadata": {},
   "outputs": [
    {
     "name": "stdout",
     "output_type": "stream",
     "text": [
      "\n",
      "Masukkan nomor kesukaan anda...123\n",
      "\\Nomor kesukaan anda adalah: 123\n"
     ]
    }
   ],
   "source": [
    "a = input(\"\\nMasukkan nomor kesukaan anda...\")\n",
    "print(\"\\Nomor kesukaan anda adalah: \"+str(a))"
   ]
  },
  {
   "cell_type": "markdown",
   "metadata": {},
   "source": [
    "* Multiple Statements on a single Line <br>\n",
    "Menggunakan semicolon (;)"
   ]
  },
  {
   "cell_type": "code",
   "execution_count": 13,
   "metadata": {},
   "outputs": [
    {
     "name": "stdout",
     "output_type": "stream",
     "text": [
      "IPB\t56\n",
      "\n"
     ]
    }
   ],
   "source": [
    "x = 'IPB'; y =  56; print(x + '\\t' + str(y) + '\\n')"
   ]
  },
  {
   "cell_type": "markdown",
   "metadata": {},
   "source": [
    "* Assigning Values"
   ]
  },
  {
   "cell_type": "code",
   "execution_count": 15,
   "metadata": {},
   "outputs": [
    {
     "name": "stdout",
     "output_type": "stream",
     "text": [
      "(1, 1, 1, 1, 'hallo', 'apa', 'kabar')\n"
     ]
    }
   ],
   "source": [
    "a = 1 #single\n",
    "a = b = c = d = 1 #multiple with single values\n",
    "e,f,g = 'hallo', 'apa', 'kabar' # multiple assign on a single line\n",
    "print(a,b,c,d, e, f ,g)"
   ]
  },
  {
   "cell_type": "markdown",
   "metadata": {},
   "source": [
    "* Menghapus varibel"
   ]
  },
  {
   "cell_type": "code",
   "execution_count": 17,
   "metadata": {},
   "outputs": [
    {
     "ename": "NameError",
     "evalue": "name 'a' is not defined",
     "output_type": "error",
     "traceback": [
      "\u001b[1;31m---------------------------------------------------------------------------\u001b[0m",
      "\u001b[1;31mNameError\u001b[0m                                 Traceback (most recent call last)",
      "\u001b[1;32m<ipython-input-17-6411e8630ad1>\u001b[0m in \u001b[0;36m<module>\u001b[1;34m()\u001b[0m\n\u001b[0;32m      1\u001b[0m \u001b[1;32mdel\u001b[0m \u001b[0ma\u001b[0m\u001b[1;33m,\u001b[0m \u001b[0mb\u001b[0m\u001b[1;33m,\u001b[0m \u001b[0mc\u001b[0m\u001b[1;33m,\u001b[0m \u001b[0md\u001b[0m\u001b[1;33m,\u001b[0m \u001b[0me\u001b[0m\u001b[1;33m,\u001b[0m \u001b[0mf\u001b[0m\u001b[1;33m,\u001b[0m \u001b[0mg\u001b[0m\u001b[1;33m\u001b[0m\u001b[0m\n\u001b[1;32m----> 2\u001b[1;33m \u001b[1;32mprint\u001b[0m\u001b[1;33m(\u001b[0m\u001b[0ma\u001b[0m\u001b[1;33m)\u001b[0m\u001b[1;33m\u001b[0m\u001b[0m\n\u001b[0m",
      "\u001b[1;31mNameError\u001b[0m: name 'a' is not defined"
     ]
    }
   ],
   "source": [
    "del a, b, c, d, e, f, g\n",
    "print(a)"
   ]
  },
  {
   "cell_type": "markdown",
   "metadata": {},
   "source": [
    "* String"
   ]
  },
  {
   "cell_type": "code",
   "execution_count": 18,
   "metadata": {},
   "outputs": [
    {
     "name": "stdout",
     "output_type": "stream",
     "text": [
      "This is a ball!\n"
     ]
    }
   ],
   "source": [
    "print(paragraph[0:8]+ 'a ball!')"
   ]
  },
  {
   "cell_type": "markdown",
   "metadata": {},
   "source": [
    "* List: A list contains items separated by commas and enclosed within square brackets ([])"
   ]
  },
  {
   "cell_type": "code",
   "execution_count": 19,
   "metadata": {},
   "outputs": [
    {
     "name": "stdout",
     "output_type": "stream",
     "text": [
      "['abcd', 786, 2.23, 'john', 70.2]\n"
     ]
    }
   ],
   "source": [
    "list = ['abcd', 786, 2.23, 'john', 70.2]\n",
    "tinylist = [123, 'john']\n",
    "print(list)"
   ]
  },
  {
   "cell_type": "markdown",
   "metadata": {},
   "source": [
    "* Tuple : read only list"
   ]
  },
  {
   "cell_type": "code",
   "execution_count": 20,
   "metadata": {},
   "outputs": [
    {
     "name": "stdout",
     "output_type": "stream",
     "text": [
      "('abcd', 786, 2.23, 'john', 70.2)\n"
     ]
    }
   ],
   "source": [
    "tuple = ('abcd', 786, 2.23, 'john', 70.2)\n",
    "tinytuple = (123, 'john')\n",
    "print(tuple)"
   ]
  },
  {
   "cell_type": "markdown",
   "metadata": {},
   "source": [
    "* concatenate list and tuple"
   ]
  },
  {
   "cell_type": "code",
   "execution_count": 22,
   "metadata": {
    "collapsed": true
   },
   "outputs": [],
   "source": [
    "gabung = []\n",
    "gabung.append(tinylist)\n",
    "\n",
    "combine = []\n",
    "combine.append(tuple)\n",
    "combine.append(tinytuple)"
   ]
  },
  {
   "cell_type": "code",
   "execution_count": 23,
   "metadata": {},
   "outputs": [
    {
     "name": "stdout",
     "output_type": "stream",
     "text": [
      "[[123, 'john']]\n",
      "[('abcd', 786, 2.23, 'john', 70.2), (123, 'john')]\n"
     ]
    }
   ],
   "source": [
    "print(gabung)\n",
    "print(combine)"
   ]
  },
  {
   "cell_type": "markdown",
   "metadata": {},
   "source": [
    "* Dictionary <br>\n",
    "like hash (like associative arrays or hashes)"
   ]
  },
  {
   "cell_type": "code",
   "execution_count": 24,
   "metadata": {},
   "outputs": [
    {
     "name": "stdout",
     "output_type": "stream",
     "text": [
      "['dept', 'code', 'name']\n",
      "['sales', 6734, 'john']\n"
     ]
    }
   ],
   "source": [
    "tiny_dict = {'name': 'john', 'code':6734, 'dept':'sales'}\n",
    "print(tiny_dict.keys()) # print all the keys\n",
    "print(tiny_dict.values()) #print all the values"
   ]
  },
  {
   "cell_type": "code",
   "execution_count": 25,
   "metadata": {},
   "outputs": [
    {
     "data": {
      "text/plain": [
       "'joko'"
      ]
     },
     "execution_count": 25,
     "metadata": {},
     "output_type": "execute_result"
    }
   ],
   "source": [
    "nama = ['joko', 'anto', 'bowo']\n",
    "kode = [6744, 4744, 1235]\n",
    "jobs = ['dokter', 'polisi', 'penghulu']\n",
    "kamus = {'name': nama, 'code': kode, 'dept':jobs}\n",
    "kamus['name'][0]"
   ]
  },
  {
   "cell_type": "markdown",
   "metadata": {},
   "source": [
    "#### * Basic Operators"
   ]
  },
  {
   "cell_type": "code",
   "execution_count": 26,
   "metadata": {},
   "outputs": [
    {
     "name": "stdout",
     "output_type": "stream",
     "text": [
      "4 Ada di dalam list\n"
     ]
    }
   ],
   "source": [
    "list = [1,2,3,4,5,6,7,8,9,10]\n",
    "a = 4\n",
    "#contoh\n",
    "if a in list:\n",
    "    print( '{} Ada di dalam list'.format(a))\n",
    "else:\n",
    "    print('{} Tidak ada di dalam list'.format(a))"
   ]
  },
  {
   "cell_type": "markdown",
   "metadata": {},
   "source": [
    "#### * Decision Making, Loops, Verification"
   ]
  },
  {
   "cell_type": "code",
   "execution_count": 27,
   "metadata": {},
   "outputs": [
    {
     "name": "stdout",
     "output_type": "stream",
     "text": [
      "index ke 0 ~ nilainya: 1\n",
      "index ke 1 ~ nilainya: 2\n",
      "index ke 2 ~ nilainya: 3\n",
      "index ke 3 ~ nilainya: 4\n",
      "index ke 4 ~ nilainya: 5\n",
      "index ke 5 ~ nilainya: 6\n",
      "index ke 6 ~ nilainya: 7\n",
      "index ke 7 ~ nilainya: 8\n",
      "index ke 8 ~ nilainya: 9\n",
      "index ke 9 ~ nilainya: 10\n"
     ]
    }
   ],
   "source": [
    "#contoh: menggunakan range, enumerate, dan zip\n",
    "index = [1,2,3,4,5,6,7,8,9,10]\n",
    "for i in range(0, len(index)):\n",
    "    print('index ke {} ~ nilainya: {}'.format(i, index[i]))"
   ]
  },
  {
   "cell_type": "code",
   "execution_count": 28,
   "metadata": {},
   "outputs": [
    {
     "name": "stdout",
     "output_type": "stream",
     "text": [
      "0 warna merah, nilai rasionya: 58\n",
      "1 warna kuning, nilai rasionya: 66\n",
      "2 warna hijau, nilai rasionya: 46\n",
      "3 warna biru, nilai rasionya: 100\n"
     ]
    }
   ],
   "source": [
    "warna = [\"merah\", \"kuning\", \"hijau\", \"biru\"]\n",
    "rasio = [58, 66, 46, 100]\n",
    "for i, ind_warna in enumerate(warna):\n",
    "    ind = rasio[i]\n",
    "    print('{} warna {}, nilai rasionya: {}'.format(i, ind_warna, ind))"
   ]
  },
  {
   "cell_type": "markdown",
   "metadata": {},
   "source": [
    "* Fungsi dan Modules"
   ]
  },
  {
   "cell_type": "code",
   "execution_count": 29,
   "metadata": {},
   "outputs": [
    {
     "name": "stdout",
     "output_type": "stream",
     "text": [
      "total 3 + 5 adalah: 8\n"
     ]
    }
   ],
   "source": [
    "#contoh fungsi\n",
    "\"\"\"\n",
    "def functionname(parameters):\n",
    "    \"function_docstring\" function_suite\n",
    "    return [expression]\n",
    "\"\"\"\n",
    "\n",
    "#fungsi jumlah\n",
    "def jumlah(arg1, arg2):\n",
    "    total = arg1 + arg2\n",
    "    return total\n",
    "print(\"total 3 + 5 adalah: {}\".format(jumlah(3,5)))"
   ]
  },
  {
   "cell_type": "markdown",
   "metadata": {},
   "source": [
    "* Latihan 1: Membuat suatu fungsi yang dapat menerima 2 bilangan bulat, untuk menghasilkan operasi perkalian dan pembagian"
   ]
  },
  {
   "cell_type": "code",
   "execution_count": 34,
   "metadata": {},
   "outputs": [
    {
     "name": "stdout",
     "output_type": "stream",
     "text": [
      "Hasil perkalian bilangan 10 dan 2 adalah: 20\n",
      "Hasil pembagian bilangan 10 dan 2 adalah: 5\n"
     ]
    }
   ],
   "source": [
    "def mul_div(a, b):\n",
    "    perkalian = a * b\n",
    "    pembagian = a/b\n",
    "    return perkalian, pembagian\n",
    "\n",
    "a = 10\n",
    "b = 2\n",
    "print(\"Hasil perkalian bilangan {} dan {} adalah: {}\".format(a,b,mul_div(a,b)[0]))\n",
    "print(\"Hasil pembagian bilangan {} dan {} adalah: {}\".format(a,b,mul_div(a,b)[1]))"
   ]
  },
  {
   "cell_type": "code",
   "execution_count": 1,
   "metadata": {
    "collapsed": true
   },
   "outputs": [],
   "source": [
    "import fungsi as fun"
   ]
  },
  {
   "cell_type": "code",
   "execution_count": 2,
   "metadata": {},
   "outputs": [
    {
     "name": "stdout",
     "output_type": "stream",
     "text": [
      "4\n",
      "0\n",
      "-20\n"
     ]
    }
   ],
   "source": [
    "content = dir(fun)\n",
    "print(fun.tambah(2,2))\n",
    "print(fun.bagi(4,5))\n",
    "print(fun.kali(4, -5))"
   ]
  },
  {
   "cell_type": "code",
   "execution_count": 4,
   "metadata": {},
   "outputs": [
    {
     "name": "stdout",
     "output_type": "stream",
     "text": [
      "15\n",
      "0\n",
      "-56\n"
     ]
    }
   ],
   "source": [
    "from fungsi import tambah, kali, bagi\n",
    "a = tambah(8,7)\n",
    "print(a)\n",
    "b = bagi(1,9)\n",
    "print(b)\n",
    "b = kali(-8,7)\n",
    "print(b)"
   ]
  },
  {
   "cell_type": "markdown",
   "metadata": {},
   "source": [
    "### * Module pangkat dan absolut"
   ]
  },
  {
   "cell_type": "code",
   "execution_count": 3,
   "metadata": {},
   "outputs": [
    {
     "name": "stdout",
     "output_type": "stream",
     "text": [
      "4\n",
      "300\n"
     ]
    }
   ],
   "source": [
    "from fungsi import pangkat, absolut\n",
    "\n",
    "print(pangkat(2,2))\n",
    "print(absolut(-300))"
   ]
  },
  {
   "cell_type": "code",
   "execution_count": null,
   "metadata": {
    "collapsed": true
   },
   "outputs": [],
   "source": []
  }
 ],
 "metadata": {
  "kernelspec": {
   "display_name": "Python 2",
   "language": "python",
   "name": "python2"
  },
  "language_info": {
   "codemirror_mode": {
    "name": "ipython",
    "version": 2
   },
   "file_extension": ".py",
   "mimetype": "text/x-python",
   "name": "python",
   "nbconvert_exporter": "python",
   "pygments_lexer": "ipython2",
   "version": "2.7.14"
  }
 },
 "nbformat": 4,
 "nbformat_minor": 2
}
